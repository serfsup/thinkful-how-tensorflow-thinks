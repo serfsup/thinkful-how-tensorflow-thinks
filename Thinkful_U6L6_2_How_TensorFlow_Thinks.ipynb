{
  "nbformat": 4,
  "nbformat_minor": 0,
  "metadata": {
    "colab": {
      "name": "Thinkful.U6L6.2 How TensorFlow Thinks.ipynb",
      "version": "0.3.2",
      "provenance": [],
      "collapsed_sections": []
    },
    "kernelspec": {
      "name": "python3",
      "display_name": "Python 3"
    }
  },
  "cells": [
    {
      "cell_type": "code",
      "metadata": {
        "id": "wzXfOXYbvq1R",
        "colab_type": "code",
        "colab": {}
      },
      "source": [
        "# TensorFlow's import convention is tf.\n",
        "import tensorflow as tf"
      ],
      "execution_count": 0,
      "outputs": []
    },
    {
      "cell_type": "markdown",
      "metadata": {
        "id": "bvudBzGiv8OR",
        "colab_type": "text"
      },
      "source": [
        "# Components of TensorFlow\n",
        "\n",
        "Now, before we start going off and building our own models, we need to know more about how TensorFlow thinks. Tensor flows conceives of the world and modeling within it with a very specific set of components. Understanding these components will facilitate our understanding of TensorFlow and how to best use it to build our models.\n",
        "\n",
        "In this section, we'll go through those core elements, setting the stage for us to build models later on.\n",
        "\n",
        "# Tensors\n",
        "\n",
        "The core data structure in TensorFlow is called a tensor. A tensor will have a lot of similarity to a numpy array. Much like an array, a tensor is specified with `[` and `]`.  Similarly, it can come in n-dimensions, reaching whatever level of complexity the problem necessitates.\n",
        "\n",
        "Let's build a few tensors below."
      ]
    },
    {
      "cell_type": "code",
      "metadata": {
        "id": "MsuTywt8wNr4",
        "colab_type": "code",
        "colab": {
          "base_uri": "https://localhost:8080/",
          "height": 34
        },
        "outputId": "bf28da95-97aa-47ff-efcd-07a8a8cf74c7"
      },
      "source": [
        "[3, 2, 1]\n",
        "[[3, 2], [1, 3]]\n",
        "[[[1], [2]], [[1], [2]]]\n",
        "2"
      ],
      "execution_count": 2,
      "outputs": [
        {
          "output_type": "execute_result",
          "data": {
            "text/plain": [
              "2"
            ]
          },
          "metadata": {
            "tags": []
          },
          "execution_count": 2
        }
      ]
    },
    {
      "cell_type": "markdown",
      "metadata": {
        "id": "UCGY-nAwweIZ",
        "colab_type": "text"
      },
      "source": [
        "When we talk about tensors, one of their defining characteristics is its __rank__. The rank is just the dimension of the tensor.\n",
        "\n",
        "Can you figure out the rank of the tensors above?\n",
        "\n",
        "Well, that first tensor is simply rank 1, a single dimensional tensor. The next one adds another dimension, as does the one after that. However, what about that final tensor? Is it a tensor at all?\n",
        "\n",
        "It is! A scalar value like this can be considered a tensor of rank 0, as it is just a single value.\n",
        "\n",
        "Tensors are how we'll handle data in Tensor flow. When we get inputs, we'll leave them as tensors and run those tensors through the various nodes and steps of our model. We will also likely return a tensor as our output.\n",
        "\n",
        "So far, tensors sound a lot like numpy arrays, and they are. There are many ways we can conceive of tensors, but the key is that they easily support higher dimensions than the typical dataframe, with less syntactical nomenclature like column names or indices, and are more robust for our modeling uses than a simple numpy array.\n",
        "\n",
        "Tensors are easily converted to NumPy arrays using `.eval()`. Before running this method, tensors are more like placeholder structures of a shape and size, with strong data typing and holding the data given to them (if you have given them data), but the structure and its contents remain distinct.\n",
        "\n",
        "## Nodes\n",
        "\n",
        "The other key object in TensorFlow, at its most rudimentary, is the node. Nodes are places where things can happen in our model. Let's start with an example.\n",
        "\n",
        "The first kind of node we'll discuss is the constant. Let's implement one!"
      ]
    },
    {
      "cell_type": "code",
      "metadata": {
        "id": "xJ7GayPlwmWd",
        "colab_type": "code",
        "colab": {
          "base_uri": "https://localhost:8080/",
          "height": 34
        },
        "outputId": "bf145e3e-e9d5-4a15-f971-dad029100f23"
      },
      "source": [
        "# Create the Node.\n",
        "node_const = tf.constant(70)\n",
        "\n",
        "# Print the Node.\n",
        "print(node_const)"
      ],
      "execution_count": 3,
      "outputs": [
        {
          "output_type": "stream",
          "text": [
            "Tensor(\"Const:0\", shape=(), dtype=int32)\n"
          ],
          "name": "stdout"
        }
      ]
    },
    {
      "cell_type": "markdown",
      "metadata": {
        "id": "Xw2wXGN6w2ry",
        "colab_type": "text"
      },
      "source": [
        "There are a few things to note here.\n",
        "\n",
        "Firstly, it was pretty simple to create the node, we defined it like we would any other variable. However, note that when we print the node, it printed a description of the node rather than its value. This is because nodes are much more than just constants. Even though the node we created in this case was a constant, the class itself supports a wider range of functionalities with the printed output reflecting that potential diversity.\n",
        "\n",
        "To better explain what we mean, let's make another node. This one will be for addition."
      ]
    },
    {
      "cell_type": "code",
      "metadata": {
        "id": "eDa3AAWXw7nn",
        "colab_type": "code",
        "colab": {
          "base_uri": "https://localhost:8080/",
          "height": 34
        },
        "outputId": "6332d30c-ed9e-443c-f957-7999d7d7806c"
      },
      "source": [
        "# Let's make a node that adds our constant to itself.\n",
        "node_add = tf.add(node_const, node_const)\n",
        "\n",
        "# Print that node!\n",
        "print(node_add)\n"
      ],
      "execution_count": 4,
      "outputs": [
        {
          "output_type": "stream",
          "text": [
            "Tensor(\"Add:0\", shape=(), dtype=int32)\n"
          ],
          "name": "stdout"
        }
      ]
    },
    {
      "cell_type": "markdown",
      "metadata": {
        "id": "We2M2JZbxC1a",
        "colab_type": "text"
      },
      "source": [
        "Now this again is similar to our previous printed node, however the first term is now `Add`. Add simply defines the kind of node we've made. If you were to run that cell again, the label would increment to `Add_1` as each addition node will get a unique name. The 0 is that it is still rank 0. Addition nodes are simply one example of a group of nodes that represent operations. Any operation you'd want to do on your data would be done via a node.\n",
        "\n",
        "There is one final node we'll introduce here: Placeholder nodes.\n",
        "\n",
        "Placeholders are exactly what you'd think: a placeholder for other data to come in and be utilized by the function."
      ]
    },
    {
      "cell_type": "code",
      "metadata": {
        "id": "pVHjOoNVxHGE",
        "colab_type": "code",
        "colab": {
          "base_uri": "https://localhost:8080/",
          "height": 34
        },
        "outputId": "3371f562-8959-4cdb-b549-544a36f2ade6"
      },
      "source": [
        "# Initiate our node with a default data type.\n",
        "node_place = tf.placeholder(tf.int32)\n",
        "\n",
        "# Print it again!\n",
        "print(node_place)"
      ],
      "execution_count": 5,
      "outputs": [
        {
          "output_type": "stream",
          "text": [
            "Tensor(\"Placeholder:0\", dtype=int32)\n"
          ],
          "name": "stdout"
        }
      ]
    },
    {
      "cell_type": "markdown",
      "metadata": {
        "id": "gsxtSNfoxN5z",
        "colab_type": "text"
      },
      "source": [
        "Now we have our three main types of nodes. Let's stitch them together!\n",
        "\n",
        "But how?\n",
        "\n",
        "We've already seen that when we print our nodes, we aren't necessarily getting the values we have assigned to that given node.\n",
        "\n",
        "It turns out we're missing one other key element of TensorFlow: Sessions.\n",
        "\n",
        "## Sessions in TensorFlow\n",
        "\n",
        "Sessions are TensorFlow's way of saying that we actually intend to do something with our various nodes and tensors with the intention of generating some kind of output."
      ]
    },
    {
      "cell_type": "code",
      "metadata": {
        "id": "8tweHW4ixSCi",
        "colab_type": "code",
        "colab": {
          "base_uri": "https://localhost:8080/",
          "height": 34
        },
        "outputId": "9f8b46cb-2766-4c84-9a04-f91caa9c15bd"
      },
      "source": [
        "sess = tf.Session()\n",
        "\n",
        "sess.run(node_const)\n"
      ],
      "execution_count": 6,
      "outputs": [
        {
          "output_type": "execute_result",
          "data": {
            "text/plain": [
              "70"
            ]
          },
          "metadata": {
            "tags": []
          },
          "execution_count": 6
        }
      ]
    },
    {
      "cell_type": "markdown",
      "metadata": {
        "id": "4qmy0A-KxdqR",
        "colab_type": "text"
      },
      "source": [
        "What did we do there? We got a very different output than when we printed our node. Running a session of the node returned the value we had stored to it. Why did this happen?\n",
        "\n",
        "Well, when we run the session itself, the node is actually executed, leading the value to be returned. Before that, the node exists as a more complicated structure wrapping our (in this case) constant. \n",
        "\n",
        "Let's do something more complicated, utilizing all of our node types."
      ]
    },
    {
      "cell_type": "code",
      "metadata": {
        "id": "XsOOVM2qxhce",
        "colab_type": "code",
        "colab": {
          "base_uri": "https://localhost:8080/",
          "height": 34
        },
        "outputId": "9dae122f-e545-49e3-9bc1-f5aa44cf08f2"
      },
      "source": [
        "# Establish a placeholder, named 'a'.\n",
        "a = tf.placeholder(tf.int32)\n",
        "\n",
        "# Create an operator node that takes our placeholder and a constant node.\n",
        "multiply_by_2 = tf.multiply(a, tf.constant(2))\n",
        "\n",
        "# Run the node to return our output.\n",
        "sess.run(multiply_by_2, {a : 3})\n"
      ],
      "execution_count": 7,
      "outputs": [
        {
          "output_type": "execute_result",
          "data": {
            "text/plain": [
              "6"
            ]
          },
          "metadata": {
            "tags": []
          },
          "execution_count": 7
        }
      ]
    },
    {
      "cell_type": "markdown",
      "metadata": {
        "id": "YX2d0P9Dy_u_",
        "colab_type": "text"
      },
      "source": [
        "Let's talk through what we've done here. First we created a placeholder. This will act like a parameter in our later operator node. \n",
        "\n",
        "Our second line creates an operator node that is defined as multiplication but takes a parameter for that placeholder and then the constant 2. \n",
        "\n",
        "Lastly our third line runs the session to use our new multiplier operator. When passing parameters into a session, note that they are given like a dictionary. Also note that these sessions can happily operate over whatever dimensionality of tensor they're given. For instance:"
      ]
    },
    {
      "cell_type": "code",
      "metadata": {
        "id": "Zwqb3a2BzDxC",
        "colab_type": "code",
        "colab": {
          "base_uri": "https://localhost:8080/",
          "height": 51
        },
        "outputId": "0708c664-0b2b-4035-95e9-2b54774a884f"
      },
      "source": [
        "sess.run(multiply_by_2, {a : [[3, 4, 81], [2, 31, 13]]})\n"
      ],
      "execution_count": 8,
      "outputs": [
        {
          "output_type": "execute_result",
          "data": {
            "text/plain": [
              "array([[  6,   8, 162],\n",
              "       [  4,  62,  26]], dtype=int32)"
            ]
          },
          "metadata": {
            "tags": []
          },
          "execution_count": 8
        }
      ]
    },
    {
      "cell_type": "markdown",
      "metadata": {
        "id": "Gc_qqEQCzLdL",
        "colab_type": "text"
      },
      "source": [
        "See! Our session ran our nodes over every value in the tensor passed in for a. This will continue to be true whatever dimension of tensor we input."
      ]
    },
    {
      "cell_type": "markdown",
      "metadata": {
        "id": "wWzLU_oCzUw8",
        "colab_type": "text"
      },
      "source": [
        "\n",
        "Now you have the basic elements of tensor flow, so it's time to build some things on your own. In the cell below, create the following tensors:\n",
        "\n",
        "1. Add a two constants, 3 and 2, together.\n",
        "\n",
        "2. Divide a placeholder by 2.\n",
        "\n",
        "3. Take two placeholders and multiply them.\n",
        "\n",
        "4. Sum a 7 and a placeholder, then multiply it by two."
      ]
    },
    {
      "cell_type": "code",
      "metadata": {
        "id": "8UGYzEWGzWNI",
        "colab_type": "code",
        "colab": {}
      },
      "source": [
        ""
      ],
      "execution_count": 0,
      "outputs": []
    },
    {
      "cell_type": "code",
      "metadata": {
        "id": "TPs0BX8F7o3C",
        "colab_type": "code",
        "colab": {
          "base_uri": "https://localhost:8080/",
          "height": 34
        },
        "outputId": "caca3f4c-b9a8-41c7-cb61-db0fa4033b35"
      },
      "source": [
        "# Create two constant nodes.\n",
        "node_const3 = tf.constant(3)\n",
        "node_const2 = tf.constant(2)\n",
        "\n",
        "# Create a node that adds our two constants.\n",
        "node_add = tf.add(node_const3, node_const2)\n",
        "\n",
        "# Run a tf session.\n",
        "sess = tf.Session()\n",
        "sess.run(node_add)\n"
      ],
      "execution_count": 10,
      "outputs": [
        {
          "output_type": "execute_result",
          "data": {
            "text/plain": [
              "5"
            ]
          },
          "metadata": {
            "tags": []
          },
          "execution_count": 10
        }
      ]
    },
    {
      "cell_type": "code",
      "metadata": {
        "id": "9mZNjcVp9CjH",
        "colab_type": "code",
        "colab": {
          "base_uri": "https://localhost:8080/",
          "height": 34
        },
        "outputId": "00c44c6d-5132-43e0-e677-0854027c85e6"
      },
      "source": [
        "# Establish a placeholder, named b.\n",
        "b = tf.placeholder(tf.int32)\n",
        "\n",
        "# Create an operator node that takes our placeholder and a constant node.\n",
        "divide_by_2 = tf.divide(b, tf.constant(2))\n",
        "\n",
        "# Run the node to return our output.\n",
        "sess.run(divide_by_2, {b: 184})"
      ],
      "execution_count": 18,
      "outputs": [
        {
          "output_type": "execute_result",
          "data": {
            "text/plain": [
              "92.0"
            ]
          },
          "metadata": {
            "tags": []
          },
          "execution_count": 18
        }
      ]
    },
    {
      "cell_type": "code",
      "metadata": {
        "id": "XJccW0--_xu0",
        "colab_type": "code",
        "colab": {
          "base_uri": "https://localhost:8080/",
          "height": 34
        },
        "outputId": "fad3e39f-c597-46bb-a388-90f782328612"
      },
      "source": [
        "# Create an operator node that multiplies two placeholders.\n",
        "multiply_placeholders = tf.multiply(a, b)\n",
        "\n",
        "sess.run(multiply_placeholders, {a: 15, b: 32})"
      ],
      "execution_count": 22,
      "outputs": [
        {
          "output_type": "execute_result",
          "data": {
            "text/plain": [
              "480"
            ]
          },
          "metadata": {
            "tags": []
          },
          "execution_count": 22
        }
      ]
    },
    {
      "cell_type": "code",
      "metadata": {
        "id": "XSVzjTeFBdDv",
        "colab_type": "code",
        "colab": {
          "base_uri": "https://localhost:8080/",
          "height": 34
        },
        "outputId": "89c519ec-3549-43af-f066-c220f836f3ca"
      },
      "source": [
        "# Create a constant node.\n",
        "node_const7 = tf.constant(7)\n",
        "\n",
        "# Establish a placeholder, named c.\n",
        "c = tf.placeholder(tf.int32)\n",
        "\n",
        "# Create an operator node that takes our placeholder and a constant node.\n",
        "add_holder_const = tf.add(c, tf.constant(7))\n",
        "\n",
        "# Run the node to return our output.\n",
        "sess.run(add_holder_const, {c: 17})"
      ],
      "execution_count": 25,
      "outputs": [
        {
          "output_type": "execute_result",
          "data": {
            "text/plain": [
              "24"
            ]
          },
          "metadata": {
            "tags": []
          },
          "execution_count": 25
        }
      ]
    }
  ]
}