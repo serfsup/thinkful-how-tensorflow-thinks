{
 "cells": [
  {
   "cell_type": "code",
   "execution_count": 2,
   "metadata": {
    "ExecuteTime": {
     "end_time": "2019-07-12T14:15:03.163247Z",
     "start_time": "2019-07-12T14:15:03.152564Z"
    },
    "scrolled": false
   },
   "outputs": [
    {
     "ename": "ModuleNotFoundError",
     "evalue": "No module named 'tensorflow'",
     "output_type": "error",
     "traceback": [
      "\u001b[0;31m---------------------------------------------------------------------------\u001b[0m",
      "\u001b[0;31mModuleNotFoundError\u001b[0m                       Traceback (most recent call last)",
      "\u001b[0;32m<ipython-input-2-0dfe692cc2a9>\u001b[0m in \u001b[0;36m<module>\u001b[0;34m\u001b[0m\n\u001b[1;32m      1\u001b[0m \u001b[0;31m# TensorFlow's import convention is tf.\u001b[0m\u001b[0;34m\u001b[0m\u001b[0;34m\u001b[0m\u001b[0;34m\u001b[0m\u001b[0m\n\u001b[0;32m----> 2\u001b[0;31m \u001b[0;32mimport\u001b[0m \u001b[0mtensorflow\u001b[0m \u001b[0;32mas\u001b[0m \u001b[0mtf\u001b[0m\u001b[0;34m\u001b[0m\u001b[0;34m\u001b[0m\u001b[0m\n\u001b[0m",
      "\u001b[0;31mModuleNotFoundError\u001b[0m: No module named 'tensorflow'"
     ]
    }
   ],
   "source": [
    "# TensorFlow's import convention is tf.\n",
    "import tensorflow as tf\n"
   ]
  },
  {
   "cell_type": "markdown",
   "metadata": {},
   "source": [
    "# Components of TensorFlow\n",
    "\n",
    "Now, before we start going off and building our own models, we need to know more about how TensorFlow thinks. Tensor flows conceives of the world and modeling within it with a very specific set of components. Understanding these components will facilitate our understanding of TensorFlow and how to best use it to build our models.\n",
    "\n",
    "In this section, we'll go through those core elements, setting the stage for us to build models later on.\n",
    "\n",
    "# Tensors\n",
    "\n",
    "The core data structure in TensorFlow is called a tensor. A tensor will have a lot of similarity to a numpy array. Much like an array, a tensor is specified with `[` and `]`.  Similarly, it can come in n-dimensions, reaching whatever level of complexity the problem necessitates.\n",
    "\n",
    "Let's build a few tensors below."
   ]
  },
  {
   "cell_type": "code",
   "execution_count": 3,
   "metadata": {
    "ExecuteTime": {
     "end_time": "2019-07-12T14:16:13.862035Z",
     "start_time": "2019-07-12T14:16:13.841798Z"
    }
   },
   "outputs": [
    {
     "data": {
      "text/plain": [
       "2"
      ]
     },
     "execution_count": 3,
     "metadata": {},
     "output_type": "execute_result"
    }
   ],
   "source": [
    "[3, 2, 1]\n",
    "[[3, 2], [1, 3]]\n",
    "[[[1], [2]], [[1], [2]]]\n",
    "2"
   ]
  },
  {
   "cell_type": "markdown",
   "metadata": {},
   "source": [
    "When we talk about tensors, one of their defining characteristics is its __rank__. The rank is just the dimension of the tensor.\n",
    "\n",
    "Can you figure out the rank of the tensors above?\n",
    "\n",
    "Well, that first tensor is simply rank 1, a single dimensional tensor. The next one adds another dimension, as does the one after that. However, what about that final tensor? Is it a tensor at all?\n",
    "\n",
    "It is! A scalar value like this can be considered a tensor of rank 0, as it is just a single value.\n",
    "\n",
    "Tensors are how we'll handle data in Tensor flow. When we get inputs, we'll leave them as tensors and run those tensors through the various nodes and steps of our model. We will also likely return a tensor as our output.\n",
    "\n",
    "So far, tensors sound a lot like numpy arrays, and they are. There are many ways we can conceive of tensors, but the key is that they easily support higher dimensions than the typical dataframe, with less syntactical nomenclature like column names or indices, and are more robust for our modeling uses than a simple numpy array.\n",
    "\n",
    "Tensors are easily converted to NumPy arrays using `.eval()`. Before running this method, tensors are more like placeholder structures of a shape and size, with strong data typing and holding the data given to them (if you have given them data), but the structure and its contents remain distinct.\n",
    "\n",
    "## Nodes\n",
    "\n",
    "The other key object in TensorFlow, at its most rudimentary, is the node. Nodes are places where things can happen in our model. Let's start with an example.\n",
    "\n",
    "The first kind of node we'll discuss is the constant. Let's implement one!"
   ]
  },
  {
   "cell_type": "code",
   "execution_count": 4,
   "metadata": {
    "ExecuteTime": {
     "end_time": "2019-07-12T14:16:16.920402Z",
     "start_time": "2019-07-12T14:16:16.908603Z"
    }
   },
   "outputs": [
    {
     "ename": "NameError",
     "evalue": "name 'tf' is not defined",
     "output_type": "error",
     "traceback": [
      "\u001b[0;31m---------------------------------------------------------------------------\u001b[0m",
      "\u001b[0;31mNameError\u001b[0m                                 Traceback (most recent call last)",
      "\u001b[0;32m<ipython-input-4-4e93120d33b2>\u001b[0m in \u001b[0;36m<module>\u001b[0;34m\u001b[0m\n\u001b[1;32m      1\u001b[0m \u001b[0;31m# Create the Node.\u001b[0m\u001b[0;34m\u001b[0m\u001b[0;34m\u001b[0m\u001b[0;34m\u001b[0m\u001b[0m\n\u001b[0;32m----> 2\u001b[0;31m \u001b[0mnode_const\u001b[0m \u001b[0;34m=\u001b[0m \u001b[0mtf\u001b[0m\u001b[0;34m.\u001b[0m\u001b[0mconstant\u001b[0m\u001b[0;34m(\u001b[0m\u001b[0;36m70\u001b[0m\u001b[0;34m)\u001b[0m\u001b[0;34m\u001b[0m\u001b[0;34m\u001b[0m\u001b[0m\n\u001b[0m\u001b[1;32m      3\u001b[0m \u001b[0;34m\u001b[0m\u001b[0m\n\u001b[1;32m      4\u001b[0m \u001b[0;31m# Print the Node.\u001b[0m\u001b[0;34m\u001b[0m\u001b[0;34m\u001b[0m\u001b[0;34m\u001b[0m\u001b[0m\n\u001b[1;32m      5\u001b[0m \u001b[0mprint\u001b[0m\u001b[0;34m(\u001b[0m\u001b[0mnode_const\u001b[0m\u001b[0;34m)\u001b[0m\u001b[0;34m\u001b[0m\u001b[0;34m\u001b[0m\u001b[0m\n",
      "\u001b[0;31mNameError\u001b[0m: name 'tf' is not defined"
     ]
    }
   ],
   "source": [
    "# Create the Node.\n",
    "node_const = tf.constant(70)\n",
    "\n",
    "# Print the Node.\n",
    "print(node_const)"
   ]
  },
  {
   "cell_type": "markdown",
   "metadata": {},
   "source": [
    "There are a few things to note here.\n",
    "\n",
    "Firstly, it was pretty simple to create the node, we defined it like we would any other variable. However, note that when we print the node, it printed a description of the node rather than its value. This is because nodes are much more than just constants. Even though the node we created in this case was a constant, the class itself supports a wider range of functionalities with the printed output reflecting that potential diversity.\n",
    "\n",
    "To better explain what we mean, let's make another node. This one will be for addition."
   ]
  },
  {
   "cell_type": "code",
   "execution_count": null,
   "metadata": {
    "ExecuteTime": {
     "end_time": "2019-07-08T03:35:46.165285Z",
     "start_time": "2019-07-08T03:35:46.003Z"
    }
   },
   "outputs": [],
   "source": [
    "# Let's make a node that adds our constant to itself.\n",
    "node_add = tf.add(node_const, node_const)\n",
    "\n",
    "# Print that node!\n",
    "print(node_add)\n"
   ]
  },
  {
   "cell_type": "markdown",
   "metadata": {},
   "source": [
    "Now this again is similar to our previous printed node, however the first term is now `Add`. Add simply defines the kind of node we've made. If you were to run that cell again, the label would increment to `Add_1` as each addition node will get a unique name. The 0 is that it is still rank 0. Addition nodes are simply one example of a group of nodes that represent operations. Any operation you'd want to do on your data would be done via a node.\n",
    "\n",
    "There is one final node we'll introduce here: Placeholder nodes.\n",
    "\n",
    "Placeholders are exactly what you'd think: a placeholder for other data to come in and be utilized by the function."
   ]
  },
  {
   "cell_type": "code",
   "execution_count": null,
   "metadata": {
    "ExecuteTime": {
     "end_time": "2019-07-08T03:35:46.176632Z",
     "start_time": "2019-07-08T03:35:46.004Z"
    }
   },
   "outputs": [],
   "source": [
    "# Initiate our node with a default data type.\n",
    "node_place = tf.placeholder(tf.int32)\n",
    "\n",
    "# Print it again!\n",
    "print(node_place)"
   ]
  },
  {
   "cell_type": "markdown",
   "metadata": {},
   "source": [
    "Now we have our three main types of nodes. Let's stitch them together!\n",
    "\n",
    "But how?\n",
    "\n",
    "We've already seen that when we print our nodes, we aren't necessarily getting the values we have assigned to that given node.\n",
    "\n",
    "It turns out we're missing one other key element of TensorFlow: Sessions.\n",
    "\n",
    "## Sessions in TensorFlow\n",
    "\n",
    "Sessions are TensorFlow's way of saying that we actually intend to do something with our various nodes and tensors with the intention of generating some kind of output."
   ]
  },
  {
   "cell_type": "code",
   "execution_count": null,
   "metadata": {
    "ExecuteTime": {
     "end_time": "2019-07-08T03:35:46.180998Z",
     "start_time": "2019-07-08T03:35:46.005Z"
    }
   },
   "outputs": [],
   "source": [
    "sess = tf.Session()\n",
    "\n",
    "sess.run(node_const)\n"
   ]
  },
  {
   "cell_type": "markdown",
   "metadata": {},
   "source": [
    "What did we do there? We got a very different output than when we printed our node. Running a session of the node returned the value we had stored to it. Why did this happen?\n",
    "\n",
    "Well, when we run the session itself, the node is actually executed, leading the value to be returned. Before that, the node exists as a more complicated structure wrapping our (in this case) constant. \n",
    "\n",
    "Let's do something more complicated, utilizing all of our node types."
   ]
  },
  {
   "cell_type": "code",
   "execution_count": null,
   "metadata": {
    "ExecuteTime": {
     "end_time": "2019-07-08T03:35:46.197014Z",
     "start_time": "2019-07-08T03:35:46.006Z"
    }
   },
   "outputs": [],
   "source": [
    "# Establish a placeholder, named 'a'.\n",
    "a = tf.placeholder(tf.int32)\n",
    "\n",
    "# Create an operator node that takes our placeholder and a constant node.\n",
    "multiply_by_2 = tf.multiply(a, tf.constant(2))\n",
    "\n",
    "# Run the node to return our output.\n",
    "sess.run(multiply_by_2, {a : 3})\n"
   ]
  },
  {
   "cell_type": "markdown",
   "metadata": {},
   "source": [
    "Let's talk through what we've done here. First we created a placeholder. This will act like a parameter in our later operator node. \n",
    "\n",
    "Our second line creates an operator node that is defined as multiplication but takes a parameter for that placeholder and then the constant 2. \n",
    "\n",
    "Lastly our third line runs the session to use our new multiplier operator. When passing parameters into a session, note that they are given like a dictionary. Also note that these sessions can happily operate over whatever dimensionality of tensor they're given. For instance:"
   ]
  },
  {
   "cell_type": "code",
   "execution_count": null,
   "metadata": {
    "ExecuteTime": {
     "end_time": "2019-07-08T03:35:46.202023Z",
     "start_time": "2019-07-08T03:35:46.008Z"
    }
   },
   "outputs": [],
   "source": [
    "sess.run(multiply_by_2, {a : [[3, 4, 81], [2, 31, 13]]})\n"
   ]
  },
  {
   "cell_type": "markdown",
   "metadata": {},
   "source": [
    "See! Our session ran our nodes over every value in the tensor passed in for a. This will continue to be true whatever dimension of tensor we input."
   ]
  },
  {
   "cell_type": "markdown",
   "metadata": {},
   "source": [
    "You're now ready to build a more recognizable machine learning model with TensorFlow, though before you go try a quick drill to reinforce what you've learned.\n",
    "\n",
    "## Drill\n",
    "\n",
    "Now you have the basic elements of tensor flow, so it's time to build some things on your own. In the cell below, create the following tensors:\n",
    "\n",
    "1. Add a two constants, 3 and 2, together.\n",
    "\n",
    "2. Divide a placeholder by 2.\n",
    "\n",
    "3. Take two placeholders and multiply them.\n",
    "\n",
    "4. Sum a 7 and a placeholder, then multiply it by two."
   ]
  },
  {
   "cell_type": "code",
   "execution_count": null,
   "metadata": {},
   "outputs": [],
   "source": []
  }
 ],
 "metadata": {
  "kernelspec": {
   "display_name": "Python 3",
   "language": "python",
   "name": "python3"
  },
  "language_info": {
   "codemirror_mode": {
    "name": "ipython",
    "version": 3
   },
   "file_extension": ".py",
   "mimetype": "text/x-python",
   "name": "python",
   "nbconvert_exporter": "python",
   "pygments_lexer": "ipython3",
   "version": "3.7.3"
  }
 },
 "nbformat": 4,
 "nbformat_minor": 2
}
